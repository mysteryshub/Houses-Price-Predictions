{
  "cells": [
    {
      "metadata": {
        "trusted": true,
        "collapsed": true,
        "_uuid": "df6160ec4a72c6c7d9c08d6a6c9ab16c020280e6"
      },
      "cell_type": "code",
      "source": "",
      "execution_count": null,
      "outputs": []
    },
    {
      "metadata": {
        "trusted": true,
        "collapsed": true,
        "_uuid": "e30328866772088e30121f7a64bd03e194f15798"
      },
      "cell_type": "code",
      "source": "",
      "execution_count": null,
      "outputs": []
    },
    {
      "metadata": {
        "_uuid": "8f2839f25d086af736a60e9eeb907d3b93b6e0e5",
        "_cell_guid": "b1076dfc-b9ad-4769-8c92-a6c4dae69d19",
        "trusted": true,
        "collapsed": true
      },
      "cell_type": "code",
      "source": "# This Python 3 environment comes with many helpful analytics libraries installed\n# It is defined by the kaggle/python docker image: https://github.com/kaggle/docker-python\n# For example, here's several helpful packages to load in \n\nimport numpy as np # linear algebra\nimport pandas as pd # data processing, CSV file I/O (e.g. pd.read_c\n# Input data files are available in the \"../input/\" directory.\n# For example, running this (by clicking run or pressing Shift+Enter) will list the files in the input directory\nimport seaborn as sns\nimport matplotlib.pyplot as plt\nfrom sklearn.preprocessing import StandardScaler\nfrom scipy import stats\nimport os\nprint(os.listdir(\"../input\"))\n\n# Any results you write to the current directory are saved as output.",
      "execution_count": null,
      "outputs": []
    },
    {
      "metadata": {
        "trusted": true,
        "_uuid": "3975a33178dee9388c62be8ea1a207753060ef6f",
        "collapsed": true
      },
      "cell_type": "code",
      "source": "df_train=pd.read_csv(\"../input/train.csv\")",
      "execution_count": null,
      "outputs": []
    },
    {
      "metadata": {
        "_cell_guid": "79c7e3d0-c299-4dcb-8224-4455121ee9b0",
        "_uuid": "d629ff2d2480ee46fbb7e2d37f6b5fab8052498a",
        "trusted": true,
        "collapsed": true
      },
      "cell_type": "code",
      "source": "df_train.columns\n",
      "execution_count": null,
      "outputs": []
    },
    {
      "metadata": {
        "trusted": true,
        "_uuid": "a54190daafe0478ae623b2064910f5fa8a437742",
        "collapsed": true
      },
      "cell_type": "code",
      "source": "df_train['SalePrice'].describe()",
      "execution_count": null,
      "outputs": []
    },
    {
      "metadata": {
        "trusted": true,
        "_uuid": "f3ed96086c94e3f8eb95fceaf877c1edda785e7e",
        "collapsed": true
      },
      "cell_type": "code",
      "source": "sns.distplot(df_train['SalePrice'])",
      "execution_count": null,
      "outputs": []
    },
    {
      "metadata": {
        "trusted": true,
        "_uuid": "83ced9f93bde479694fe759f2bd6e440b2dc942f",
        "collapsed": true
      },
      "cell_type": "code",
      "source": "data=pd.concat([df_train['SalePrice'],df_train['GrLivArea']],axis=1)\ndata.plot.scatter(x='GrLivArea',y='SalePrice',ylim=(0,800000))",
      "execution_count": null,
      "outputs": []
    },
    {
      "metadata": {
        "trusted": true,
        "_uuid": "f14cf5821ba3601b384afe0f7e92ae0982dd508e",
        "collapsed": true
      },
      "cell_type": "code",
      "source": "data=pd.concat([df_train['SalePrice'],df_train['TotalBsmtSF']],axis=1)\ndata.plot.scatter(x='TotalBsmtSF',y='SalePrice',ylim=(0,800000))",
      "execution_count": null,
      "outputs": []
    },
    {
      "metadata": {
        "trusted": true,
        "_uuid": "6023ce9f9a2be1004d0f9c70e2f37849f4ac610b",
        "collapsed": true
      },
      "cell_type": "code",
      "source": "cormatrix=df_train.corr()\nf,ax=plt.subplots(figsize=(12,9))\nsns.heatmap(cormatrix,vmax=0.8,square=True)",
      "execution_count": null,
      "outputs": []
    },
    {
      "metadata": {
        "trusted": true,
        "_uuid": "cefdf9c1a08c7a7cb24536a7ae8b9b48dcc5c019",
        "collapsed": true
      },
      "cell_type": "code",
      "source": "sns.set()\ncols=['SalePrice', 'OverallQual', 'GrLivArea', 'GarageCars', 'TotalBsmtSF', 'FullBath', 'YearBuilt']\nsns.pairplot(df_train[cols],size=2.5)",
      "execution_count": null,
      "outputs": []
    },
    {
      "metadata": {
        "trusted": true,
        "_uuid": "d5a54c8e9970d22319ee44632ea71b7334ac1418",
        "collapsed": true
      },
      "cell_type": "code",
      "source": "t_missing=df_train.isnull().sum().sort_values(ascending=False)\npercent=(df_train.isnull().sum()/df_train.isnull().count()).sort_values(ascending=False)\ndata_missing=pd.concat([t_missing,percent],axis=1,keys=['No of missing values','Percent'])\ndata_missing.head(20)",
      "execution_count": null,
      "outputs": []
    },
    {
      "metadata": {
        "trusted": true,
        "_uuid": "94440e18e2bf76969cbce9259905bb32eb00c246",
        "collapsed": true
      },
      "cell_type": "code",
      "source": "df_train=df_train.drop(data_missing[data_missing['Percent']>0.004].index,1)\ndf_train=df_train.drop(data_missing.loc[df_train['Electrical'].isnull()].index)\n",
      "execution_count": null,
      "outputs": []
    },
    {
      "metadata": {
        "trusted": true,
        "_uuid": "21dffff2cd01c5601322de1788ba49bb3e0bc75c",
        "collapsed": true
      },
      "cell_type": "code",
      "source": "df_train = df_train.drop((data_missing[data_missing['No of missing values'] > 1]).index,1)\ndf_train = df_train.drop(df_train.loc[df_train['Electrical'].isnull()].index)",
      "execution_count": null,
      "outputs": []
    },
    {
      "metadata": {
        "trusted": true,
        "_uuid": "8ab8fa0c704f733a91b29a608b2a4aef8a046371",
        "collapsed": true
      },
      "cell_type": "code",
      "source": "df_train.isnull().sum().max()",
      "execution_count": null,
      "outputs": []
    },
    {
      "metadata": {
        "trusted": true,
        "_uuid": "c616dbc240b474307420877871bc6fdf52e99bd4",
        "collapsed": true
      },
      "cell_type": "code",
      "source": "saleprice_scaled=StandardScaler().fit_transform(df_train['SalePrice'][:,np.newaxis]);\nlow_range=saleprice_scaled[saleprice_scaled[:,0].argsort()][:10]\nhigh_range=saleprice_scaled[saleprice_scaled[:,0].argsort()][:10]\nprint(low_range)\nprint(high_range)\n",
      "execution_count": null,
      "outputs": []
    },
    {
      "metadata": {
        "trusted": true,
        "_uuid": "6764251a2e54112ea498f632e7b4a5f5f6d40ad1",
        "collapsed": true
      },
      "cell_type": "code",
      "source": "data=pd.concat([df_train[\"SalePrice\"],df_train['GrLivArea']],axis=1)\ndata.plot.scatter(x='GrLivArea',y='SalePrice',ylim=(0,800000))",
      "execution_count": null,
      "outputs": []
    },
    {
      "metadata": {
        "trusted": true,
        "collapsed": true,
        "_uuid": "f52220d1fb2b1031d2e6c23c8876e002ae6ce1f9"
      },
      "cell_type": "code",
      "source": "df_train.sort_values(by='GrLivArea',ascending=False)[:2]\ndf_train=df_train.drop(df_train[df_train['Id']==1299].index)\ndf_train=df_train.drop(df_train[df_train['Id']==524].index)",
      "execution_count": null,
      "outputs": []
    },
    {
      "metadata": {
        "trusted": true,
        "_uuid": "5348f480edc75835edf9cceeb84fdaf62e2da6d1",
        "collapsed": true
      },
      "cell_type": "code",
      "source": "sns.distplot(df_train['SalePrice']);\nfig=plt.figure()\nres=stats.probplot(df_train['SalePrice'],plot=plt)",
      "execution_count": null,
      "outputs": []
    },
    {
      "metadata": {
        "trusted": true,
        "collapsed": true,
        "_uuid": "e56de13437ce2f4531f8f3edc73857fa14d65ee4"
      },
      "cell_type": "code",
      "source": "",
      "execution_count": null,
      "outputs": []
    },
    {
      "metadata": {
        "trusted": true,
        "collapsed": true,
        "_uuid": "c92e5baf70305edfbd497c5c3e0e77d63e748515"
      },
      "cell_type": "code",
      "source": "df_train['SalePrice']=np.log(df_train['SalePrice'])",
      "execution_count": null,
      "outputs": []
    },
    {
      "metadata": {
        "trusted": true,
        "_uuid": "b58f3f04e242d0f3c38065631fdd7dc9ae9eecbf",
        "collapsed": true
      },
      "cell_type": "code",
      "source": "sns.distplot(df_train['SalePrice']);\nfig=plt.figure()\nres=stats.probplot(df_train['SalePrice'],plot=plt)",
      "execution_count": null,
      "outputs": []
    },
    {
      "metadata": {
        "trusted": true,
        "_uuid": "426444a3a3931c1dd5b2bea5138b6f662d824f6a",
        "collapsed": true
      },
      "cell_type": "code",
      "source": "sns.distplot(df_train['GrLivArea']);\nfig=plt.figure()\nres=stats.probplot(df_train['GrLivArea'],plot=plt)",
      "execution_count": null,
      "outputs": []
    },
    {
      "metadata": {
        "trusted": true,
        "collapsed": true,
        "_uuid": "97986c39098d7068da6eddeef05e789066660ac1"
      },
      "cell_type": "code",
      "source": "df_train['GrLivArea']=np.log(df_train['GrLivArea'])",
      "execution_count": null,
      "outputs": []
    },
    {
      "metadata": {
        "trusted": true,
        "_uuid": "f945bdeb20e872b2a4e40b5e9a63ea025b251365",
        "collapsed": true
      },
      "cell_type": "code",
      "source": "sns.distplot(df_train['GrLivArea']);\nfig=plt.figure()\nres=stats.probplot(df_train['GrLivArea'],plot=plt)",
      "execution_count": null,
      "outputs": []
    },
    {
      "metadata": {
        "trusted": true,
        "_uuid": "610f6b5c79d0648af12cd6f9dc1c85d70bfe11f4",
        "collapsed": true
      },
      "cell_type": "code",
      "source": "sns.distplot(df_train['TotalBsmtSF']);\nfig=plt.figure()\nres=stats.probplot(df_train['TotalBsmtSF'],plot=plt)",
      "execution_count": null,
      "outputs": []
    },
    {
      "metadata": {
        "trusted": true,
        "collapsed": true,
        "_uuid": "8f6f1b230cc7e2e5dc11ba3441afc24f4611c6c4"
      },
      "cell_type": "code",
      "source": "df_train['HasBsmt'] = pd.Series(len(df_train['TotalBsmtSF']), index=df_train.index)\ndf_train['HasBsmt'] = 0 \ndf_train.loc[df_train['TotalBsmtSF']>0,'HasBsmt'] = 1",
      "execution_count": null,
      "outputs": []
    },
    {
      "metadata": {
        "trusted": true,
        "_uuid": "77772a9f5c5dd04d140527d5db0dc0d3a306585b",
        "collapsed": true
      },
      "cell_type": "code",
      "source": "df_train.loc[df_train['HasBsmt']==1,'TotalBsmtSF'] = np.log(df_train['TotalBsmtSF'])",
      "execution_count": null,
      "outputs": []
    },
    {
      "metadata": {
        "trusted": true,
        "_uuid": "3304b9d686ed3da526586e348010efebbf5cef13",
        "collapsed": true
      },
      "cell_type": "code",
      "source": "sns.distplot(df_train[df_train['TotalBsmtSF']>0]['TotalBsmtSF']);\nfig = plt.figure()\nres = stats.probplot(df_train[df_train['TotalBsmtSF']>0]['TotalBsmtSF'], plot=plt)",
      "execution_count": null,
      "outputs": []
    },
    {
      "metadata": {
        "trusted": true,
        "_uuid": "4b15bf1e73ab4aa76187114dfbb0c6299cda8aa9",
        "collapsed": true
      },
      "cell_type": "code",
      "source": "plt.scatter(df_train['GrLivArea'], df_train['SalePrice']);",
      "execution_count": null,
      "outputs": []
    },
    {
      "metadata": {
        "trusted": true,
        "_uuid": "015770a09e5349c0323b95ee6aac92c6c7a4577a",
        "collapsed": true
      },
      "cell_type": "code",
      "source": "plt.scatter(df_train[df_train['TotalBsmtSF']>0]['TotalBsmtSF'], df_train[df_train['TotalBsmtSF']>0]['SalePrice']);",
      "execution_count": null,
      "outputs": []
    }
  ],
  "metadata": {
    "kernelspec": {
      "display_name": "Python 3",
      "language": "python",
      "name": "python3"
    },
    "language_info": {
      "name": "python",
      "version": "3.6.5",
      "mimetype": "text/x-python",
      "codemirror_mode": {
        "name": "ipython",
        "version": 3
      },
      "pygments_lexer": "ipython3",
      "nbconvert_exporter": "python",
      "file_extension": ".py"
    }
  },
  "nbformat": 4,
  "nbformat_minor": 1
}